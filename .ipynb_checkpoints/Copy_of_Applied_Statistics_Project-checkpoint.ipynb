{
 "cells": [
  {
   "cell_type": "markdown",
   "metadata": {
    "id": "XVRRli7RVQFs"
   },
   "source": [
    "# Customer Purchase Behavior Analysis using Descriptive Statistics"
   ]
  },
  {
   "cell_type": "markdown",
   "metadata": {
    "id": "jfhbp8ZDB7If"
   },
   "source": [
    "##Problem Statement"
   ]
  },
  {
   "cell_type": "markdown",
   "metadata": {
    "id": "EB1yLJOSV1gx"
   },
   "source": [
    "🔍 **Problem Statement**:\n",
    "\n",
    "Welcome to the Probability and Statistics project! 📊🔍 In this exciting journey, you'll get the chance to apply the concepts you've learned in probability theory and statistics to analyze a real-world dataset. This project is your opportunity to dive deep into the world of data analysis and gain practical experience with the tools and techniques you've been learning. 🚀\n",
    "\n",
    "🎯 **Objective**:\n",
    "\n",
    "Your mission is to analyze the provided dataset containing customer information and purchasing behavior to make informed decisions. Your goal is to identify patterns, trends, and correlations that will help your company optimize its marketing efforts and increase offer acceptance rates. 🎉"
   ]
  },
  {
   "cell_type": "markdown",
   "metadata": {
    "id": "C6I6fCk2B4W-"
   },
   "source": [
    "##About the Dataset"
   ]
  },
  {
   "cell_type": "markdown",
   "metadata": {
    "id": "E_yV1UBOAu7Z"
   },
   "source": [
    "\n",
    "\n",
    "Here's the link to the [dataset](https://docs.google.com/spreadsheets/d/12ln9iTNcVNOMYi_AU-OczKpa_KIP8XyVbsjk81Na8Yk/edit?usp=sharing)\n",
    "\n",
    "\n",
    "This data was gathered during last year's campaign.\n",
    "Data description is as follows;\n",
    "\n",
    "1. Response (target) - 1 if customer accepted the offer in the last campaign, 0 otherwise\n",
    "1. ID - Unique ID of each customer\n",
    "1. Year_Birth - Age of the customer\n",
    "1. Complain - 1 if the customer complained in the last 2 years\n",
    "1. Dt_Customer - date of customer's enrollment with the company\n",
    "1. Education - customer's level of education\n",
    "1. Marital - customer's marital status\n",
    "1. Kidhome - number of small children in customer's household\n",
    "1. Teenhome - number of teenagers in customer's household\n",
    "1. Income - customer's yearly household income\n",
    "1. MntFishProducts - the amount spent on fish products in the last 2 years\n",
    "1. MntMeatProducts - the amount spent on meat products in the last 2 years\n",
    "1. MntFruits - the amount spent on fruits products in the last 2 years\n",
    "1. MntSweetProducts - amount spent on sweet products in the last 2 years\n",
    "1. MntWines - the amount spent on wine products in the last 2 years\n",
    "1. MntGoldProds - the amount spent on gold products in the last 2 years\n",
    "1. NumDealsPurchases - number of purchases made with discount\n",
    "1. NumCatalogPurchases - number of purchases made using catalog (buying goods to be shipped through the mail)\n",
    "1. NumStorePurchases - number of purchases made directly in stores\n",
    "1. NumWebPurchases - number of purchases made through the company's website\n",
    "1. NumWebVisitsMonth - number of visits to company's website in the last month\n",
    "1. Recency - number of days since the last purchase\n",
    "\n",
    "\n",
    "\n"
   ]
  },
  {
   "cell_type": "markdown",
   "metadata": {
    "id": "HNjRqBCzXQww"
   },
   "source": [
    "##Task 1 - Basic CleanUp\n",
    "\n",
    "- **Clean and preprocess the dataset (handling missing values, data types, etc.).**\n",
    "\n",
    "- **Analyze the distribution of customer demographics (age, education, marital status) using descriptive statistics and visualizations.**"
   ]
  },
  {
   "cell_type": "markdown",
   "metadata": {
    "id": "AIUm4NpNX4vt"
   },
   "source": [
    "\n",
    "\n",
    "**Deliverables**:\n",
    "\n",
    "- **Cleaned and Preprocessed Dataset**:\n",
    "\n",
    "  Provide a detailed report on the steps taken to handle missing values, including imputation methods used if applicable.\n",
    "  Document the process of ensuring consistent data types for each variable, addressing any inconsistencies.\n",
    "\n",
    "- **Summary of Basic Statistics**:\n",
    "\n",
    "  Present calculated statistics such as mean, median, variance, and standard deviation for each relevant numerical variable.\n",
    "  Include a concise table or summary showcasing these measures for easy reference."
   ]
  },
  {
   "cell_type": "code",
   "execution_count": 1,
   "metadata": {
    "id": "7nvAyeZGGXSE"
   },
   "outputs": [],
   "source": [
    "import seaborn as sns\n",
    "import pandas as pd\n",
    "import numpy as np\n",
    "import matplotlib.pyplot as plt"
   ]
  },
  {
   "cell_type": "code",
   "execution_count": 3,
   "metadata": {
    "id": "YCrTGCGoGtVd"
   },
   "outputs": [
    {
     "data": {
      "text/html": [
       "<div>\n",
       "<style scoped>\n",
       "    .dataframe tbody tr th:only-of-type {\n",
       "        vertical-align: middle;\n",
       "    }\n",
       "\n",
       "    .dataframe tbody tr th {\n",
       "        vertical-align: top;\n",
       "    }\n",
       "\n",
       "    .dataframe thead th {\n",
       "        text-align: right;\n",
       "    }\n",
       "</style>\n",
       "<table border=\"1\" class=\"dataframe\">\n",
       "  <thead>\n",
       "    <tr style=\"text-align: right;\">\n",
       "      <th></th>\n",
       "      <th>Id</th>\n",
       "      <th>Year_Birth</th>\n",
       "      <th>Education</th>\n",
       "      <th>Marital_Status</th>\n",
       "      <th>Income</th>\n",
       "      <th>Kidhome</th>\n",
       "      <th>Teenhome</th>\n",
       "      <th>Dt_Customer</th>\n",
       "      <th>Recency</th>\n",
       "      <th>MntWines</th>\n",
       "      <th>...</th>\n",
       "      <th>MntFishProducts</th>\n",
       "      <th>MntSweetProducts</th>\n",
       "      <th>MntGoldProds</th>\n",
       "      <th>NumDealsPurchases</th>\n",
       "      <th>NumWebPurchases</th>\n",
       "      <th>NumCatalogPurchases</th>\n",
       "      <th>NumStorePurchases</th>\n",
       "      <th>NumWebVisitsMonth</th>\n",
       "      <th>Response</th>\n",
       "      <th>Complain</th>\n",
       "    </tr>\n",
       "  </thead>\n",
       "  <tbody>\n",
       "    <tr>\n",
       "      <th>0</th>\n",
       "      <td>1826</td>\n",
       "      <td>1970</td>\n",
       "      <td>Graduation</td>\n",
       "      <td>Divorced</td>\n",
       "      <td>84835.0</td>\n",
       "      <td>0</td>\n",
       "      <td>0</td>\n",
       "      <td>6/16/2014</td>\n",
       "      <td>0</td>\n",
       "      <td>189</td>\n",
       "      <td>...</td>\n",
       "      <td>111</td>\n",
       "      <td>189</td>\n",
       "      <td>218</td>\n",
       "      <td>1</td>\n",
       "      <td>4</td>\n",
       "      <td>4</td>\n",
       "      <td>6</td>\n",
       "      <td>1</td>\n",
       "      <td>1</td>\n",
       "      <td>0</td>\n",
       "    </tr>\n",
       "    <tr>\n",
       "      <th>1</th>\n",
       "      <td>1</td>\n",
       "      <td>1961</td>\n",
       "      <td>Graduation</td>\n",
       "      <td>Single</td>\n",
       "      <td>57091.0</td>\n",
       "      <td>0</td>\n",
       "      <td>0</td>\n",
       "      <td>6/15/2014</td>\n",
       "      <td>0</td>\n",
       "      <td>464</td>\n",
       "      <td>...</td>\n",
       "      <td>7</td>\n",
       "      <td>0</td>\n",
       "      <td>37</td>\n",
       "      <td>1</td>\n",
       "      <td>7</td>\n",
       "      <td>3</td>\n",
       "      <td>7</td>\n",
       "      <td>5</td>\n",
       "      <td>1</td>\n",
       "      <td>0</td>\n",
       "    </tr>\n",
       "    <tr>\n",
       "      <th>2</th>\n",
       "      <td>10476</td>\n",
       "      <td>1958</td>\n",
       "      <td>Graduation</td>\n",
       "      <td>Married</td>\n",
       "      <td>67267.0</td>\n",
       "      <td>0</td>\n",
       "      <td>1</td>\n",
       "      <td>5/13/2014</td>\n",
       "      <td>0</td>\n",
       "      <td>134</td>\n",
       "      <td>...</td>\n",
       "      <td>15</td>\n",
       "      <td>2</td>\n",
       "      <td>30</td>\n",
       "      <td>1</td>\n",
       "      <td>3</td>\n",
       "      <td>2</td>\n",
       "      <td>5</td>\n",
       "      <td>2</td>\n",
       "      <td>0</td>\n",
       "      <td>0</td>\n",
       "    </tr>\n",
       "    <tr>\n",
       "      <th>3</th>\n",
       "      <td>1386</td>\n",
       "      <td>1967</td>\n",
       "      <td>Graduation</td>\n",
       "      <td>Together</td>\n",
       "      <td>32474.0</td>\n",
       "      <td>1</td>\n",
       "      <td>1</td>\n",
       "      <td>########</td>\n",
       "      <td>0</td>\n",
       "      <td>10</td>\n",
       "      <td>...</td>\n",
       "      <td>0</td>\n",
       "      <td>0</td>\n",
       "      <td>0</td>\n",
       "      <td>1</td>\n",
       "      <td>1</td>\n",
       "      <td>0</td>\n",
       "      <td>2</td>\n",
       "      <td>7</td>\n",
       "      <td>0</td>\n",
       "      <td>0</td>\n",
       "    </tr>\n",
       "    <tr>\n",
       "      <th>4</th>\n",
       "      <td>5371</td>\n",
       "      <td>1989</td>\n",
       "      <td>Graduation</td>\n",
       "      <td>Single</td>\n",
       "      <td>21474.0</td>\n",
       "      <td>1</td>\n",
       "      <td>0</td>\n",
       "      <td>########</td>\n",
       "      <td>0</td>\n",
       "      <td>6</td>\n",
       "      <td>...</td>\n",
       "      <td>11</td>\n",
       "      <td>0</td>\n",
       "      <td>34</td>\n",
       "      <td>2</td>\n",
       "      <td>3</td>\n",
       "      <td>1</td>\n",
       "      <td>2</td>\n",
       "      <td>7</td>\n",
       "      <td>1</td>\n",
       "      <td>0</td>\n",
       "    </tr>\n",
       "    <tr>\n",
       "      <th>...</th>\n",
       "      <td>...</td>\n",
       "      <td>...</td>\n",
       "      <td>...</td>\n",
       "      <td>...</td>\n",
       "      <td>...</td>\n",
       "      <td>...</td>\n",
       "      <td>...</td>\n",
       "      <td>...</td>\n",
       "      <td>...</td>\n",
       "      <td>...</td>\n",
       "      <td>...</td>\n",
       "      <td>...</td>\n",
       "      <td>...</td>\n",
       "      <td>...</td>\n",
       "      <td>...</td>\n",
       "      <td>...</td>\n",
       "      <td>...</td>\n",
       "      <td>...</td>\n",
       "      <td>...</td>\n",
       "      <td>...</td>\n",
       "      <td>...</td>\n",
       "    </tr>\n",
       "    <tr>\n",
       "      <th>2235</th>\n",
       "      <td>10142</td>\n",
       "      <td>1976</td>\n",
       "      <td>PhD</td>\n",
       "      <td>Divorced</td>\n",
       "      <td>66476.0</td>\n",
       "      <td>0</td>\n",
       "      <td>1</td>\n",
       "      <td>########</td>\n",
       "      <td>99</td>\n",
       "      <td>372</td>\n",
       "      <td>...</td>\n",
       "      <td>47</td>\n",
       "      <td>48</td>\n",
       "      <td>78</td>\n",
       "      <td>2</td>\n",
       "      <td>5</td>\n",
       "      <td>2</td>\n",
       "      <td>11</td>\n",
       "      <td>4</td>\n",
       "      <td>0</td>\n",
       "      <td>0</td>\n",
       "    </tr>\n",
       "    <tr>\n",
       "      <th>2236</th>\n",
       "      <td>5263</td>\n",
       "      <td>1977</td>\n",
       "      <td>2n Cycle</td>\n",
       "      <td>Married</td>\n",
       "      <td>31056.0</td>\n",
       "      <td>1</td>\n",
       "      <td>0</td>\n",
       "      <td>1/22/2013</td>\n",
       "      <td>99</td>\n",
       "      <td>5</td>\n",
       "      <td>...</td>\n",
       "      <td>3</td>\n",
       "      <td>8</td>\n",
       "      <td>16</td>\n",
       "      <td>1</td>\n",
       "      <td>1</td>\n",
       "      <td>0</td>\n",
       "      <td>3</td>\n",
       "      <td>8</td>\n",
       "      <td>0</td>\n",
       "      <td>0</td>\n",
       "    </tr>\n",
       "    <tr>\n",
       "      <th>2237</th>\n",
       "      <td>22</td>\n",
       "      <td>1976</td>\n",
       "      <td>Graduation</td>\n",
       "      <td>Divorced</td>\n",
       "      <td>46310.0</td>\n",
       "      <td>1</td>\n",
       "      <td>0</td>\n",
       "      <td>########</td>\n",
       "      <td>99</td>\n",
       "      <td>185</td>\n",
       "      <td>...</td>\n",
       "      <td>15</td>\n",
       "      <td>5</td>\n",
       "      <td>14</td>\n",
       "      <td>2</td>\n",
       "      <td>6</td>\n",
       "      <td>1</td>\n",
       "      <td>5</td>\n",
       "      <td>8</td>\n",
       "      <td>0</td>\n",
       "      <td>0</td>\n",
       "    </tr>\n",
       "    <tr>\n",
       "      <th>2238</th>\n",
       "      <td>528</td>\n",
       "      <td>1978</td>\n",
       "      <td>Graduation</td>\n",
       "      <td>Married</td>\n",
       "      <td>65819.0</td>\n",
       "      <td>0</td>\n",
       "      <td>0</td>\n",
       "      <td>11/29/2012</td>\n",
       "      <td>99</td>\n",
       "      <td>267</td>\n",
       "      <td>...</td>\n",
       "      <td>149</td>\n",
       "      <td>165</td>\n",
       "      <td>63</td>\n",
       "      <td>1</td>\n",
       "      <td>5</td>\n",
       "      <td>4</td>\n",
       "      <td>10</td>\n",
       "      <td>3</td>\n",
       "      <td>0</td>\n",
       "      <td>0</td>\n",
       "    </tr>\n",
       "    <tr>\n",
       "      <th>2239</th>\n",
       "      <td>4070</td>\n",
       "      <td>1969</td>\n",
       "      <td>PhD</td>\n",
       "      <td>Married</td>\n",
       "      <td>94871.0</td>\n",
       "      <td>0</td>\n",
       "      <td>2</td>\n",
       "      <td>########</td>\n",
       "      <td>99</td>\n",
       "      <td>169</td>\n",
       "      <td>...</td>\n",
       "      <td>188</td>\n",
       "      <td>0</td>\n",
       "      <td>144</td>\n",
       "      <td>1</td>\n",
       "      <td>8</td>\n",
       "      <td>5</td>\n",
       "      <td>4</td>\n",
       "      <td>7</td>\n",
       "      <td>1</td>\n",
       "      <td>0</td>\n",
       "    </tr>\n",
       "  </tbody>\n",
       "</table>\n",
       "<p>2240 rows × 22 columns</p>\n",
       "</div>"
      ],
      "text/plain": [
       "         Id  Year_Birth   Education Marital_Status   Income  Kidhome  \\\n",
       "0      1826        1970  Graduation       Divorced  84835.0        0   \n",
       "1         1        1961  Graduation         Single  57091.0        0   \n",
       "2     10476        1958  Graduation        Married  67267.0        0   \n",
       "3      1386        1967  Graduation       Together  32474.0        1   \n",
       "4      5371        1989  Graduation         Single  21474.0        1   \n",
       "...     ...         ...         ...            ...      ...      ...   \n",
       "2235  10142        1976         PhD       Divorced  66476.0        0   \n",
       "2236   5263        1977    2n Cycle        Married  31056.0        1   \n",
       "2237     22        1976  Graduation       Divorced  46310.0        1   \n",
       "2238    528        1978  Graduation        Married  65819.0        0   \n",
       "2239   4070        1969         PhD        Married  94871.0        0   \n",
       "\n",
       "      Teenhome Dt_Customer  Recency  MntWines  ...  MntFishProducts  \\\n",
       "0            0   6/16/2014        0       189  ...              111   \n",
       "1            0   6/15/2014        0       464  ...                7   \n",
       "2            1   5/13/2014        0       134  ...               15   \n",
       "3            1    ########        0        10  ...                0   \n",
       "4            0    ########        0         6  ...               11   \n",
       "...        ...         ...      ...       ...  ...              ...   \n",
       "2235         1    ########       99       372  ...               47   \n",
       "2236         0   1/22/2013       99         5  ...                3   \n",
       "2237         0    ########       99       185  ...               15   \n",
       "2238         0  11/29/2012       99       267  ...              149   \n",
       "2239         2    ########       99       169  ...              188   \n",
       "\n",
       "      MntSweetProducts  MntGoldProds  NumDealsPurchases  NumWebPurchases  \\\n",
       "0                  189           218                  1                4   \n",
       "1                    0            37                  1                7   \n",
       "2                    2            30                  1                3   \n",
       "3                    0             0                  1                1   \n",
       "4                    0            34                  2                3   \n",
       "...                ...           ...                ...              ...   \n",
       "2235                48            78                  2                5   \n",
       "2236                 8            16                  1                1   \n",
       "2237                 5            14                  2                6   \n",
       "2238               165            63                  1                5   \n",
       "2239                 0           144                  1                8   \n",
       "\n",
       "      NumCatalogPurchases  NumStorePurchases  NumWebVisitsMonth  Response  \\\n",
       "0                       4                  6                  1         1   \n",
       "1                       3                  7                  5         1   \n",
       "2                       2                  5                  2         0   \n",
       "3                       0                  2                  7         0   \n",
       "4                       1                  2                  7         1   \n",
       "...                   ...                ...                ...       ...   \n",
       "2235                    2                 11                  4         0   \n",
       "2236                    0                  3                  8         0   \n",
       "2237                    1                  5                  8         0   \n",
       "2238                    4                 10                  3         0   \n",
       "2239                    5                  4                  7         1   \n",
       "\n",
       "      Complain  \n",
       "0            0  \n",
       "1            0  \n",
       "2            0  \n",
       "3            0  \n",
       "4            0  \n",
       "...        ...  \n",
       "2235         0  \n",
       "2236         0  \n",
       "2237         0  \n",
       "2238         0  \n",
       "2239         0  \n",
       "\n",
       "[2240 rows x 22 columns]"
      ]
     },
     "execution_count": 3,
     "metadata": {},
     "output_type": "execute_result"
    }
   ],
   "source": [
    "df=pd.read_csv('Superstore Marketing Data.csv')\n",
    "df"
   ]
  },
  {
   "cell_type": "code",
   "execution_count": 4,
   "metadata": {},
   "outputs": [
    {
     "data": {
      "text/plain": [
       "Id                      0\n",
       "Year_Birth              0\n",
       "Education               0\n",
       "Marital_Status          0\n",
       "Income                 24\n",
       "Kidhome                 0\n",
       "Teenhome                0\n",
       "Dt_Customer             0\n",
       "Recency                 0\n",
       "MntWines                0\n",
       "MntFruits               0\n",
       "MntMeatProducts         0\n",
       "MntFishProducts         0\n",
       "MntSweetProducts        0\n",
       "MntGoldProds            0\n",
       "NumDealsPurchases       0\n",
       "NumWebPurchases         0\n",
       "NumCatalogPurchases     0\n",
       "NumStorePurchases       0\n",
       "NumWebVisitsMonth       0\n",
       "Response                0\n",
       "Complain                0\n",
       "dtype: int64"
      ]
     },
     "execution_count": 4,
     "metadata": {},
     "output_type": "execute_result"
    }
   ],
   "source": [
    "df.isna().sum()\n",
    "# 24 null "
   ]
  },
  {
   "cell_type": "code",
   "execution_count": null,
   "metadata": {},
   "outputs": [],
   "source": []
  },
  {
   "cell_type": "code",
   "execution_count": null,
   "metadata": {},
   "outputs": [],
   "source": []
  },
  {
   "cell_type": "markdown",
   "metadata": {
    "id": "bDza2Cu0YpE6"
   },
   "source": [
    "##Task 2 - Descriptive Statistics 📊\n",
    "\n",
    "- **Calculate measures of central tendency (mean, median, mode) and measures of dispersion (variance, standard deviation) for key variables. Identify and handle outliers if necessary.**\n"
   ]
  },
  {
   "cell_type": "markdown",
   "metadata": {
    "id": "pGrBYXGWZtYe"
   },
   "source": [
    "**Deliverables**:\n",
    "\n",
    "- **Descriptive statistics that reveal the central tendencies, variations, and potential outliers in the dataset.**:\n",
    "\n",
    "  "
   ]
  },
  {
   "cell_type": "markdown",
   "metadata": {
    "id": "GCB3OLxXaSCZ"
   },
   "source": [
    "## Task 3 - Probability Distributions 🎲\n",
    "\n",
    "- **Identify variables that could follow specific probability distributions (e.g., Binomial, Normal). Calculate probabilities and expected values based on these distributions.**\n",
    "\n"
   ]
  },
  {
   "cell_type": "markdown",
   "metadata": {
    "id": "kgjtExiJay2_"
   },
   "source": [
    "**Deliverables**:\n",
    "\n",
    "- **Determination of suitable probability distributions for relevant variables and corresponding calculated probabilities and expected values.**:\n",
    "\n",
    "  "
   ]
  },
  {
   "cell_type": "markdown",
   "metadata": {
    "id": "ZSHZP8wgcIKE"
   },
   "source": [
    "## Task 4: Insights and Customer Segmentation 📈\n",
    "\n",
    "- **Explore relationships between customer characteristics and spending habits. Segment customers based on their behaviors and characteristics.**"
   ]
  },
  {
   "cell_type": "markdown",
   "metadata": {
    "id": "1UYOJxazcRi3"
   },
   "source": [
    "**Deliverables**:\n",
    "\n",
    "- **Key insights regarding relationships between variables and distinct customer segments based on behaviors.**\n",
    "\n",
    "  "
   ]
  },
  {
   "cell_type": "markdown",
   "metadata": {
    "id": "Fv6iVJbgiwf2"
   },
   "source": [
    "## Task 5: Conclusion and Recommendations\n",
    "\n",
    "- **Create clear visualizations to showcase your findings. Use insights to make recommendations for the company based on your analysis.**"
   ]
  },
  {
   "cell_type": "markdown",
   "metadata": {
    "id": "-z5hEuOejQjd"
   },
   "source": [
    "**Deliverables**:\n",
    "\n",
    "- **Well-designed visualizations that visually represent your insights and actionable recommendations based on customer behavior analysis.**"
   ]
  },
  {
   "cell_type": "markdown",
   "metadata": {
    "id": "Fib_ksA9jmii"
   },
   "source": [
    "## Bonus Task - Geogebra Experiment\n",
    "\n"
   ]
  },
  {
   "cell_type": "markdown",
   "metadata": {
    "id": "olsEhR8RjsIF"
   },
   "source": [
    "Here's the link to an intriguing GeoGebra experiment: [GeoGebra Experiment Link](https://www.geogebra.org/m/LZbwMZtJ)\n",
    "\n",
    "This experiment lets you simulate coin flips as per your preferences and specifications!\n",
    "\n",
    "Your task involves recording a video where you'll explain the concept of the **Law of Large Numbers** using this experiment. Dive further into the experience by adjusting the number of coins and exploring varying coin biases. 🪙📹🔍"
   ]
  }
 ],
 "metadata": {
  "colab": {
   "provenance": []
  },
  "kernelspec": {
   "display_name": "Python 3 (ipykernel)",
   "language": "python",
   "name": "python3"
  },
  "language_info": {
   "codemirror_mode": {
    "name": "ipython",
    "version": 3
   },
   "file_extension": ".py",
   "mimetype": "text/x-python",
   "name": "python",
   "nbconvert_exporter": "python",
   "pygments_lexer": "ipython3",
   "version": "3.9.13"
  }
 },
 "nbformat": 4,
 "nbformat_minor": 1
}
